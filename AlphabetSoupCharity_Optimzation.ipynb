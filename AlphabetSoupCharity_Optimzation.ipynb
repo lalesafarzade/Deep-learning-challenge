{
 "cells": [
  {
   "cell_type": "code",
   "execution_count": 16,
   "metadata": {},
   "outputs": [
    {
     "data": {
      "text/html": [
       "<div>\n",
       "<style scoped>\n",
       "    .dataframe tbody tr th:only-of-type {\n",
       "        vertical-align: middle;\n",
       "    }\n",
       "\n",
       "    .dataframe tbody tr th {\n",
       "        vertical-align: top;\n",
       "    }\n",
       "\n",
       "    .dataframe thead th {\n",
       "        text-align: right;\n",
       "    }\n",
       "</style>\n",
       "<table border=\"1\" class=\"dataframe\">\n",
       "  <thead>\n",
       "    <tr style=\"text-align: right;\">\n",
       "      <th></th>\n",
       "      <th>EIN</th>\n",
       "      <th>NAME</th>\n",
       "      <th>APPLICATION_TYPE</th>\n",
       "      <th>AFFILIATION</th>\n",
       "      <th>CLASSIFICATION</th>\n",
       "      <th>USE_CASE</th>\n",
       "      <th>ORGANIZATION</th>\n",
       "      <th>STATUS</th>\n",
       "      <th>INCOME_AMT</th>\n",
       "      <th>SPECIAL_CONSIDERATIONS</th>\n",
       "      <th>ASK_AMT</th>\n",
       "      <th>IS_SUCCESSFUL</th>\n",
       "    </tr>\n",
       "  </thead>\n",
       "  <tbody>\n",
       "    <tr>\n",
       "      <th>0</th>\n",
       "      <td>10520599</td>\n",
       "      <td>BLUE KNIGHTS MOTORCYCLE CLUB</td>\n",
       "      <td>T10</td>\n",
       "      <td>Independent</td>\n",
       "      <td>C1000</td>\n",
       "      <td>ProductDev</td>\n",
       "      <td>Association</td>\n",
       "      <td>1</td>\n",
       "      <td>0</td>\n",
       "      <td>N</td>\n",
       "      <td>5000</td>\n",
       "      <td>1</td>\n",
       "    </tr>\n",
       "    <tr>\n",
       "      <th>1</th>\n",
       "      <td>10531628</td>\n",
       "      <td>AMERICAN CHESAPEAKE CLUB CHARITABLE TR</td>\n",
       "      <td>T3</td>\n",
       "      <td>Independent</td>\n",
       "      <td>C2000</td>\n",
       "      <td>Preservation</td>\n",
       "      <td>Co-operative</td>\n",
       "      <td>1</td>\n",
       "      <td>1-9999</td>\n",
       "      <td>N</td>\n",
       "      <td>108590</td>\n",
       "      <td>1</td>\n",
       "    </tr>\n",
       "  </tbody>\n",
       "</table>\n",
       "</div>"
      ],
      "text/plain": [
       "        EIN                                    NAME APPLICATION_TYPE  \\\n",
       "0  10520599            BLUE KNIGHTS MOTORCYCLE CLUB              T10   \n",
       "1  10531628  AMERICAN CHESAPEAKE CLUB CHARITABLE TR               T3   \n",
       "\n",
       "   AFFILIATION CLASSIFICATION      USE_CASE  ORGANIZATION  STATUS INCOME_AMT  \\\n",
       "0  Independent          C1000    ProductDev   Association       1          0   \n",
       "1  Independent          C2000  Preservation  Co-operative       1     1-9999   \n",
       "\n",
       "  SPECIAL_CONSIDERATIONS  ASK_AMT  IS_SUCCESSFUL  \n",
       "0                      N     5000              1  \n",
       "1                      N   108590              1  "
      ]
     },
     "execution_count": 16,
     "metadata": {},
     "output_type": "execute_result"
    }
   ],
   "source": [
    "# Import our dependencies\n",
    "from sklearn.model_selection import train_test_split\n",
    "from sklearn.preprocessing import StandardScaler,MinMaxScaler\n",
    "import pandas as pd\n",
    "import tensorflow as tf\n",
    "from tensorflow.keras.layers import Dense,Dropout\n",
    "import warnings\n",
    "import matplotlib.pyplot as plt\n",
    "warnings.filterwarnings(\"ignore\")\n",
    "#  Import and read the charity_data.csv.\n",
    "import seaborn as sns\n",
    "import pandas as pd \n",
    "application_df = pd.read_csv(\"Resources/charity_data.csv\")\n",
    "application_df.head(2)"
   ]
  },
  {
   "cell_type": "code",
   "execution_count": 17,
   "metadata": {},
   "outputs": [
    {
     "data": {
      "text/plain": [
       "EIN                       34299\n",
       "NAME                      19568\n",
       "APPLICATION_TYPE             17\n",
       "AFFILIATION                   6\n",
       "CLASSIFICATION               71\n",
       "USE_CASE                      5\n",
       "ORGANIZATION                  4\n",
       "STATUS                        2\n",
       "INCOME_AMT                    9\n",
       "SPECIAL_CONSIDERATIONS        2\n",
       "ASK_AMT                    8747\n",
       "IS_SUCCESSFUL                 2\n",
       "dtype: int64"
      ]
     },
     "execution_count": 17,
     "metadata": {},
     "output_type": "execute_result"
    }
   ],
   "source": [
    "application_df.nunique()"
   ]
  },
  {
   "cell_type": "code",
   "execution_count": 21,
   "metadata": {},
   "outputs": [],
   "source": [
    "application_df['SPECIAL_CONSIDERATIONS']=application_df.SPECIAL_CONSIDERATIONS.map({\"Y\":1,\"N\":0})"
   ]
  },
  {
   "cell_type": "code",
   "execution_count": 22,
   "metadata": {},
   "outputs": [
    {
     "data": {
      "text/plain": [
       "EIN                      -0.044482\n",
       "STATUS                   -0.001636\n",
       "SPECIAL_CONSIDERATIONS         NaN\n",
       "ASK_AMT                  -0.010861\n",
       "IS_SUCCESSFUL             1.000000\n",
       "Name: IS_SUCCESSFUL, dtype: float64"
      ]
     },
     "execution_count": 22,
     "metadata": {},
     "output_type": "execute_result"
    }
   ],
   "source": [
    "application_df.corr()['IS_SUCCESSFUL']"
   ]
  },
  {
   "cell_type": "code",
   "execution_count": 23,
   "metadata": {},
   "outputs": [
    {
     "data": {
      "text/html": [
       "<div>\n",
       "<style scoped>\n",
       "    .dataframe tbody tr th:only-of-type {\n",
       "        vertical-align: middle;\n",
       "    }\n",
       "\n",
       "    .dataframe tbody tr th {\n",
       "        vertical-align: top;\n",
       "    }\n",
       "\n",
       "    .dataframe thead th {\n",
       "        text-align: right;\n",
       "    }\n",
       "</style>\n",
       "<table border=\"1\" class=\"dataframe\">\n",
       "  <thead>\n",
       "    <tr style=\"text-align: right;\">\n",
       "      <th></th>\n",
       "      <th>NAME</th>\n",
       "      <th>APPLICATION_TYPE</th>\n",
       "      <th>AFFILIATION</th>\n",
       "      <th>CLASSIFICATION</th>\n",
       "      <th>USE_CASE</th>\n",
       "      <th>ORGANIZATION</th>\n",
       "      <th>INCOME_AMT</th>\n",
       "      <th>ASK_AMT</th>\n",
       "      <th>IS_SUCCESSFUL</th>\n",
       "    </tr>\n",
       "  </thead>\n",
       "  <tbody>\n",
       "    <tr>\n",
       "      <th>0</th>\n",
       "      <td>BLUE KNIGHTS MOTORCYCLE CLUB</td>\n",
       "      <td>T10</td>\n",
       "      <td>Independent</td>\n",
       "      <td>C1000</td>\n",
       "      <td>ProductDev</td>\n",
       "      <td>Association</td>\n",
       "      <td>0</td>\n",
       "      <td>5000</td>\n",
       "      <td>1</td>\n",
       "    </tr>\n",
       "    <tr>\n",
       "      <th>1</th>\n",
       "      <td>AMERICAN CHESAPEAKE CLUB CHARITABLE TR</td>\n",
       "      <td>T3</td>\n",
       "      <td>Independent</td>\n",
       "      <td>C2000</td>\n",
       "      <td>Preservation</td>\n",
       "      <td>Co-operative</td>\n",
       "      <td>1-9999</td>\n",
       "      <td>108590</td>\n",
       "      <td>1</td>\n",
       "    </tr>\n",
       "  </tbody>\n",
       "</table>\n",
       "</div>"
      ],
      "text/plain": [
       "                                     NAME APPLICATION_TYPE  AFFILIATION  \\\n",
       "0            BLUE KNIGHTS MOTORCYCLE CLUB              T10  Independent   \n",
       "1  AMERICAN CHESAPEAKE CLUB CHARITABLE TR               T3  Independent   \n",
       "\n",
       "  CLASSIFICATION      USE_CASE  ORGANIZATION INCOME_AMT  ASK_AMT  \\\n",
       "0          C1000    ProductDev   Association          0     5000   \n",
       "1          C2000  Preservation  Co-operative     1-9999   108590   \n",
       "\n",
       "   IS_SUCCESSFUL  \n",
       "0              1  \n",
       "1              1  "
      ]
     },
     "execution_count": 23,
     "metadata": {},
     "output_type": "execute_result"
    }
   ],
   "source": [
    "# Drop the non-beneficial ID columns\n",
    "application_df.drop(['EIN','SPECIAL_CONSIDERATIONS','STATUS'],axis=1,inplace=True)\n",
    "application_df.head(2)"
   ]
  },
  {
   "cell_type": "code",
   "execution_count": 24,
   "metadata": {},
   "outputs": [
    {
     "data": {
      "text/plain": [
       "Other                                                                19803\n",
       "PARENT BOOSTER USA INC                                                1260\n",
       "TOPS CLUB INC                                                          765\n",
       "UNITED STATES BOWLING CONGRESS INC                                     700\n",
       "WASHINGTON STATE UNIVERSITY                                            492\n",
       "                                                                     ...  \n",
       "GUILDS OF THE SANTA FE OPERA INC                                         5\n",
       "FAMILY MOTOR COACH ASSOCIATION                                           5\n",
       "JAMESTOWN SOCIETY                                                        5\n",
       "MOST WORSHIPFUL PRINCE HALL GRAND LODGE OF FREE & ACCEPTED MASONS        5\n",
       "PTA HAWAII CONGRESS                                                      5\n",
       "Name: NAME, Length: 403, dtype: int64"
      ]
     },
     "execution_count": 24,
     "metadata": {},
     "output_type": "execute_result"
    }
   ],
   "source": [
    "application_name_count=application_df['NAME'].value_counts().to_dict()\n",
    "application_name_to_replace=[key for (key,value) in application_name_count.items() if value<5 ]\n",
    "# Replace in dataframe\n",
    "for app in application_name_to_replace:\n",
    "    application_df['NAME'] = application_df['NAME'].replace(app,\"Other\")\n",
    "\n",
    "# Check to make sure binning was successful\n",
    "application_df['NAME'].value_counts()"
   ]
  },
  {
   "cell_type": "code",
   "execution_count": 25,
   "metadata": {},
   "outputs": [
    {
     "data": {
      "text/plain": [
       "T3       27037\n",
       "T4        1542\n",
       "T6        1216\n",
       "T5        1173\n",
       "T19       1065\n",
       "T8         737\n",
       "T7         725\n",
       "T10        528\n",
       "Other      276\n",
       "Name: APPLICATION_TYPE, dtype: int64"
      ]
     },
     "execution_count": 25,
     "metadata": {},
     "output_type": "execute_result"
    }
   ],
   "source": [
    "application_types_count=application_df['APPLICATION_TYPE'].value_counts().to_dict()\n",
    "application_types_to_replace=[key for (key,value) in application_types_count.items() if value<500 ]\n",
    "# Replace in dataframe\n",
    "for app in application_types_to_replace:\n",
    "    application_df['APPLICATION_TYPE'] = application_df['APPLICATION_TYPE'].replace(app,\"Other\")\n",
    "\n",
    "# Check to make sure binning was successful\n",
    "application_df['APPLICATION_TYPE'].value_counts()"
   ]
  },
  {
   "cell_type": "code",
   "execution_count": 26,
   "metadata": {},
   "outputs": [
    {
     "data": {
      "text/plain": [
       "C1000    17326\n",
       "C2000     6074\n",
       "C1200     4837\n",
       "Other     2261\n",
       "C3000     1918\n",
       "C2100     1883\n",
       "Name: CLASSIFICATION, dtype: int64"
      ]
     },
     "execution_count": 26,
     "metadata": {},
     "output_type": "execute_result"
    }
   ],
   "source": [
    "CLASSIFICATION_value_counts=application_df['CLASSIFICATION'].value_counts().to_dict()\n",
    "classifications_to_replace=[key for (key,value) in CLASSIFICATION_value_counts.items() if value<1000]\n",
    "# Replace in dataframe\n",
    "for cls in classifications_to_replace:\n",
    "    application_df['CLASSIFICATION'] = application_df['CLASSIFICATION'].replace(cls,\"Other\")\n",
    "    \n",
    "# Check to make sure binning was successful\n",
    "application_df['CLASSIFICATION'].value_counts()"
   ]
  },
  {
   "cell_type": "code",
   "execution_count": 27,
   "metadata": {},
   "outputs": [
    {
     "data": {
      "text/html": [
       "<div>\n",
       "<style scoped>\n",
       "    .dataframe tbody tr th:only-of-type {\n",
       "        vertical-align: middle;\n",
       "    }\n",
       "\n",
       "    .dataframe tbody tr th {\n",
       "        vertical-align: top;\n",
       "    }\n",
       "\n",
       "    .dataframe thead th {\n",
       "        text-align: right;\n",
       "    }\n",
       "</style>\n",
       "<table border=\"1\" class=\"dataframe\">\n",
       "  <thead>\n",
       "    <tr style=\"text-align: right;\">\n",
       "      <th></th>\n",
       "      <th>ASK_AMT</th>\n",
       "      <th>IS_SUCCESSFUL</th>\n",
       "      <th>NAME_AACE INTERNATIONAL</th>\n",
       "      <th>NAME_ACE MENTOR PROGRAM OF AMERICA INC</th>\n",
       "      <th>NAME_ACTS MINISTRY</th>\n",
       "      <th>NAME_ACTS MISSIONS</th>\n",
       "      <th>NAME_AFRICAN-AMERICAN POSTAL LEAGUE UNITED FOR SUCCESS A-PLUS</th>\n",
       "      <th>NAME_AIR FORCE ASSOCIATION</th>\n",
       "      <th>NAME_ALABAMA FEDERATION OF WOMENS CLUBS</th>\n",
       "      <th>NAME_ALABAMA TREASURE FOREST ASSOCIATION</th>\n",
       "      <th>...</th>\n",
       "      <th>ORGANIZATION_Trust</th>\n",
       "      <th>INCOME_AMT_0</th>\n",
       "      <th>INCOME_AMT_1-9999</th>\n",
       "      <th>INCOME_AMT_10000-24999</th>\n",
       "      <th>INCOME_AMT_100000-499999</th>\n",
       "      <th>INCOME_AMT_10M-50M</th>\n",
       "      <th>INCOME_AMT_1M-5M</th>\n",
       "      <th>INCOME_AMT_25000-99999</th>\n",
       "      <th>INCOME_AMT_50M+</th>\n",
       "      <th>INCOME_AMT_5M-10M</th>\n",
       "    </tr>\n",
       "  </thead>\n",
       "  <tbody>\n",
       "    <tr>\n",
       "      <th>0</th>\n",
       "      <td>5000</td>\n",
       "      <td>1</td>\n",
       "      <td>0</td>\n",
       "      <td>0</td>\n",
       "      <td>0</td>\n",
       "      <td>0</td>\n",
       "      <td>0</td>\n",
       "      <td>0</td>\n",
       "      <td>0</td>\n",
       "      <td>0</td>\n",
       "      <td>...</td>\n",
       "      <td>0</td>\n",
       "      <td>1</td>\n",
       "      <td>0</td>\n",
       "      <td>0</td>\n",
       "      <td>0</td>\n",
       "      <td>0</td>\n",
       "      <td>0</td>\n",
       "      <td>0</td>\n",
       "      <td>0</td>\n",
       "      <td>0</td>\n",
       "    </tr>\n",
       "    <tr>\n",
       "      <th>1</th>\n",
       "      <td>108590</td>\n",
       "      <td>1</td>\n",
       "      <td>0</td>\n",
       "      <td>0</td>\n",
       "      <td>0</td>\n",
       "      <td>0</td>\n",
       "      <td>0</td>\n",
       "      <td>0</td>\n",
       "      <td>0</td>\n",
       "      <td>0</td>\n",
       "      <td>...</td>\n",
       "      <td>0</td>\n",
       "      <td>0</td>\n",
       "      <td>1</td>\n",
       "      <td>0</td>\n",
       "      <td>0</td>\n",
       "      <td>0</td>\n",
       "      <td>0</td>\n",
       "      <td>0</td>\n",
       "      <td>0</td>\n",
       "      <td>0</td>\n",
       "    </tr>\n",
       "  </tbody>\n",
       "</table>\n",
       "<p>2 rows × 444 columns</p>\n",
       "</div>"
      ],
      "text/plain": [
       "   ASK_AMT  IS_SUCCESSFUL  NAME_AACE INTERNATIONAL  \\\n",
       "0     5000              1                        0   \n",
       "1   108590              1                        0   \n",
       "\n",
       "   NAME_ACE MENTOR PROGRAM OF AMERICA INC  NAME_ACTS MINISTRY  \\\n",
       "0                                       0                   0   \n",
       "1                                       0                   0   \n",
       "\n",
       "   NAME_ACTS MISSIONS  \\\n",
       "0                   0   \n",
       "1                   0   \n",
       "\n",
       "   NAME_AFRICAN-AMERICAN POSTAL LEAGUE UNITED FOR SUCCESS A-PLUS  \\\n",
       "0                                                  0               \n",
       "1                                                  0               \n",
       "\n",
       "   NAME_AIR FORCE ASSOCIATION  NAME_ALABAMA FEDERATION OF WOMENS CLUBS  \\\n",
       "0                           0                                        0   \n",
       "1                           0                                        0   \n",
       "\n",
       "   NAME_ALABAMA TREASURE FOREST ASSOCIATION  ...  ORGANIZATION_Trust  \\\n",
       "0                                         0  ...                   0   \n",
       "1                                         0  ...                   0   \n",
       "\n",
       "   INCOME_AMT_0  INCOME_AMT_1-9999  INCOME_AMT_10000-24999  \\\n",
       "0             1                  0                       0   \n",
       "1             0                  1                       0   \n",
       "\n",
       "   INCOME_AMT_100000-499999  INCOME_AMT_10M-50M  INCOME_AMT_1M-5M  \\\n",
       "0                         0                   0                 0   \n",
       "1                         0                   0                 0   \n",
       "\n",
       "   INCOME_AMT_25000-99999  INCOME_AMT_50M+  INCOME_AMT_5M-10M  \n",
       "0                       0                0                  0  \n",
       "1                       0                0                  0  \n",
       "\n",
       "[2 rows x 444 columns]"
      ]
     },
     "execution_count": 27,
     "metadata": {},
     "output_type": "execute_result"
    }
   ],
   "source": [
    "dummy_df=pd.get_dummies(application_df)\n",
    "dummy_df.head(2)"
   ]
  },
  {
   "cell_type": "code",
   "execution_count": 28,
   "metadata": {},
   "outputs": [],
   "source": [
    "# Split our preprocessed data into our features and target arrays\n",
    "#  YOUR CODE GOES HERE\n",
    "X=dummy_df.drop(['IS_SUCCESSFUL'],axis=1).values\n",
    "y=dummy_df['IS_SUCCESSFUL'].values\n",
    "# Split the preprocessed data into a training and testing dataset\n",
    "#  YOUR CODE GOES HERE\n",
    "X_train, X_test, y_train, y_test = train_test_split(X, y, test_size=0.2, random_state=42)"
   ]
  },
  {
   "cell_type": "code",
   "execution_count": 29,
   "metadata": {},
   "outputs": [],
   "source": [
    "# Create a StandardScaler instances\n",
    "sc = StandardScaler()\n",
    "\n",
    "# Fit the StandardScaler\n",
    "X_scaler = sc.fit(X_train)\n",
    "\n",
    "# Scale the data\n",
    "X_train_scaled = X_scaler.transform(X_train)\n",
    "X_test_scaled = X_scaler.transform(X_test)"
   ]
  },
  {
   "cell_type": "code",
   "execution_count": 30,
   "metadata": {},
   "outputs": [
    {
     "data": {
      "text/plain": [
       "443"
      ]
     },
     "execution_count": 30,
     "metadata": {},
     "output_type": "execute_result"
    }
   ],
   "source": [
    "X_train_scaled.shape[1]"
   ]
  },
  {
   "cell_type": "markdown",
   "metadata": {},
   "source": [
    "## STEP1&2 optimizing result(the model was the same, the part of data preprocessing was changed)"
   ]
  },
  {
   "cell_type": "code",
   "execution_count": 31,
   "metadata": {},
   "outputs": [
    {
     "name": "stdout",
     "output_type": "stream",
     "text": [
      "Epoch 1/100\n",
      "WARNING:tensorflow:AutoGraph could not transform <function Model.make_train_function.<locals>.train_function at 0x000001E6A5E4D438> and will run it as-is.\n",
      "Please report this to the TensorFlow team. When filing the bug, set the verbosity to 10 (on Linux, `export AUTOGRAPH_VERBOSITY=10`) and attach the full output.\n",
      "Cause: 'arguments' object has no attribute 'posonlyargs'\n",
      "To silence this warning, decorate the function with @tf.autograph.experimental.do_not_convert\n",
      "WARNING: AutoGraph could not transform <function Model.make_train_function.<locals>.train_function at 0x000001E6A5E4D438> and will run it as-is.\n",
      "Please report this to the TensorFlow team. When filing the bug, set the verbosity to 10 (on Linux, `export AUTOGRAPH_VERBOSITY=10`) and attach the full output.\n",
      "Cause: 'arguments' object has no attribute 'posonlyargs'\n",
      "To silence this warning, decorate the function with @tf.autograph.experimental.do_not_convert\n",
      "858/858 [==============================] - 0s 569us/step - loss: 0.4638 - accuracy: 0.7842\n",
      "Epoch 2/100\n",
      "858/858 [==============================] - ETA: 0s - loss: 0.4280 - accuracy: 0.79 - 0s 558us/step - loss: 0.4282 - accuracy: 0.7957\n",
      "Epoch 3/100\n",
      "858/858 [==============================] - 0s 561us/step - loss: 0.4226 - accuracy: 0.7986\n",
      "Epoch 4/100\n",
      "858/858 [==============================] - 0s 549us/step - loss: 0.4212 - accuracy: 0.7995\n",
      "Epoch 5/100\n",
      "858/858 [==============================] - 0s 566us/step - loss: 0.4189 - accuracy: 0.7996\n",
      "Epoch 6/100\n",
      "858/858 [==============================] - 0s 554us/step - loss: 0.4180 - accuracy: 0.8009\n",
      "Epoch 7/100\n",
      "858/858 [==============================] - 1s 600us/step - loss: 0.4166 - accuracy: 0.8018\n",
      "Epoch 8/100\n",
      "858/858 [==============================] - 0s 568us/step - loss: 0.4159 - accuracy: 0.8022\n",
      "Epoch 9/100\n",
      "858/858 [==============================] - 1s 598us/step - loss: 0.4146 - accuracy: 0.8031\n",
      "Epoch 10/100\n",
      "858/858 [==============================] - 0s 575us/step - loss: 0.4146 - accuracy: 0.8043\n",
      "Epoch 11/100\n",
      "858/858 [==============================] - 1s 599us/step - loss: 0.4138 - accuracy: 0.8043\n",
      "Epoch 12/100\n",
      "858/858 [==============================] - 1s 586us/step - loss: 0.4129 - accuracy: 0.8039\n",
      "Epoch 13/100\n",
      "858/858 [==============================] - 0s 582us/step - loss: 0.4128 - accuracy: 0.8027\n",
      "Epoch 14/100\n",
      "858/858 [==============================] - 0s 556us/step - loss: 0.4112 - accuracy: 0.8044\n",
      "Epoch 15/100\n",
      "858/858 [==============================] - 1s 584us/step - loss: 0.4117 - accuracy: 0.8040\n",
      "Epoch 16/100\n",
      "858/858 [==============================] - 0s 562us/step - loss: 0.4109 - accuracy: 0.8045\n",
      "Epoch 17/100\n",
      "858/858 [==============================] - 0s 565us/step - loss: 0.4110 - accuracy: 0.8048\n",
      "Epoch 18/100\n",
      "858/858 [==============================] - 0s 560us/step - loss: 0.4105 - accuracy: 0.8055\n",
      "Epoch 19/100\n",
      "858/858 [==============================] - 0s 582us/step - loss: 0.4100 - accuracy: 0.8053\n",
      "Epoch 20/100\n",
      "858/858 [==============================] - 1s 596us/step - loss: 0.4094 - accuracy: 0.8060\n",
      "Epoch 21/100\n",
      "858/858 [==============================] - 0s 569us/step - loss: 0.4093 - accuracy: 0.8057\n",
      "Epoch 22/100\n",
      "858/858 [==============================] - 0s 560us/step - loss: 0.4088 - accuracy: 0.8050\n",
      "Epoch 23/100\n",
      "858/858 [==============================] - 0s 560us/step - loss: 0.4085 - accuracy: 0.8071\n",
      "Epoch 24/100\n",
      "858/858 [==============================] - 0s 569us/step - loss: 0.4083 - accuracy: 0.8073\n",
      "Epoch 25/100\n",
      "858/858 [==============================] - 0s 571us/step - loss: 0.4075 - accuracy: 0.8061\n",
      "Epoch 26/100\n",
      "858/858 [==============================] - 0s 564us/step - loss: 0.4074 - accuracy: 0.8063\n",
      "Epoch 27/100\n",
      "858/858 [==============================] - 0s 558us/step - loss: 0.4070 - accuracy: 0.8064\n",
      "Epoch 28/100\n",
      "858/858 [==============================] - 0s 567us/step - loss: 0.4069 - accuracy: 0.8070\n",
      "Epoch 29/100\n",
      "858/858 [==============================] - 0s 560us/step - loss: 0.4064 - accuracy: 0.8079\n",
      "Epoch 30/100\n",
      "858/858 [==============================] - 0s 564us/step - loss: 0.4060 - accuracy: 0.8075\n",
      "Epoch 31/100\n",
      "858/858 [==============================] - 0s 557us/step - loss: 0.4058 - accuracy: 0.8074\n",
      "Epoch 32/100\n",
      "858/858 [==============================] - 0s 576us/step - loss: 0.4057 - accuracy: 0.8073\n",
      "Epoch 33/100\n",
      "858/858 [==============================] - 0s 565us/step - loss: 0.4055 - accuracy: 0.8070\n",
      "Epoch 34/100\n",
      "858/858 [==============================] - 0s 562us/step - loss: 0.4051 - accuracy: 0.8075\n",
      "Epoch 35/100\n",
      "858/858 [==============================] - 0s 562us/step - loss: 0.4050 - accuracy: 0.8080\n",
      "Epoch 36/100\n",
      "858/858 [==============================] - 0s 556us/step - loss: 0.4047 - accuracy: 0.8069\n",
      "Epoch 37/100\n",
      "858/858 [==============================] - 0s 569us/step - loss: 0.4043 - accuracy: 0.8086\n",
      "Epoch 38/100\n",
      "858/858 [==============================] - 0s 562us/step - loss: 0.4039 - accuracy: 0.8087\n",
      "Epoch 39/100\n",
      "858/858 [==============================] - 0s 567us/step - loss: 0.4042 - accuracy: 0.8087\n",
      "Epoch 40/100\n",
      "858/858 [==============================] - 0s 565us/step - loss: 0.4038 - accuracy: 0.8086\n",
      "Epoch 41/100\n",
      "858/858 [==============================] - 0s 566us/step - loss: 0.4038 - accuracy: 0.8087\n",
      "Epoch 42/100\n",
      "858/858 [==============================] - 0s 560us/step - loss: 0.4034 - accuracy: 0.8090\n",
      "Epoch 43/100\n",
      "858/858 [==============================] - 1s 605us/step - loss: 0.4033 - accuracy: 0.8084\n",
      "Epoch 44/100\n",
      "858/858 [==============================] - 0s 577us/step - loss: 0.4028 - accuracy: 0.8090\n",
      "Epoch 45/100\n",
      "858/858 [==============================] - 0s 572us/step - loss: 0.4029 - accuracy: 0.8086\n",
      "Epoch 46/100\n",
      "858/858 [==============================] - 0s 574us/step - loss: 0.4029 - accuracy: 0.8096\n",
      "Epoch 47/100\n",
      "858/858 [==============================] - 1s 676us/step - loss: 0.4028 - accuracy: 0.8095\n",
      "Epoch 48/100\n",
      "858/858 [==============================] - 1s 589us/step - loss: 0.4023 - accuracy: 0.8088\n",
      "Epoch 49/100\n",
      "858/858 [==============================] - 1s 583us/step - loss: 0.4017 - accuracy: 0.8085\n",
      "Epoch 50/100\n",
      "858/858 [==============================] - 0s 565us/step - loss: 0.4020 - accuracy: 0.8098\n",
      "Epoch 51/100\n",
      "858/858 [==============================] - 0s 581us/step - loss: 0.4018 - accuracy: 0.8091\n",
      "Epoch 52/100\n",
      "858/858 [==============================] - 0s 579us/step - loss: 0.4018 - accuracy: 0.8101\n",
      "Epoch 53/100\n",
      "858/858 [==============================] - 0s 567us/step - loss: 0.4014 - accuracy: 0.8098\n",
      "Epoch 54/100\n",
      "858/858 [==============================] - 0s 566us/step - loss: 0.4017 - accuracy: 0.8095\n",
      "Epoch 55/100\n",
      "858/858 [==============================] - 0s 572us/step - loss: 0.4015 - accuracy: 0.8098\n",
      "Epoch 56/100\n",
      "858/858 [==============================] - 0s 567us/step - loss: 0.4011 - accuracy: 0.8096\n",
      "Epoch 57/100\n",
      "858/858 [==============================] - 0s 563us/step - loss: 0.4012 - accuracy: 0.8096\n",
      "Epoch 58/100\n",
      "858/858 [==============================] - 0s 574us/step - loss: 0.4014 - accuracy: 0.8091\n",
      "Epoch 59/100\n",
      "858/858 [==============================] - 0s 565us/step - loss: 0.4008 - accuracy: 0.8093\n",
      "Epoch 60/100\n",
      "858/858 [==============================] - 0s 571us/step - loss: 0.4011 - accuracy: 0.8091\n",
      "Epoch 61/100\n",
      "858/858 [==============================] - 0s 559us/step - loss: 0.4010 - accuracy: 0.8099\n",
      "Epoch 62/100\n",
      "858/858 [==============================] - 0s 567us/step - loss: 0.4003 - accuracy: 0.8096\n",
      "Epoch 63/100\n",
      "858/858 [==============================] - 0s 563us/step - loss: 0.4003 - accuracy: 0.8098\n",
      "Epoch 64/100\n",
      "858/858 [==============================] - 0s 578us/step - loss: 0.4003 - accuracy: 0.8095\n",
      "Epoch 65/100\n",
      "858/858 [==============================] - 0s 559us/step - loss: 0.4004 - accuracy: 0.8099\n",
      "Epoch 66/100\n",
      "858/858 [==============================] - 0s 569us/step - loss: 0.4001 - accuracy: 0.8098\n",
      "Epoch 67/100\n",
      "858/858 [==============================] - 0s 571us/step - loss: 0.4000 - accuracy: 0.8106\n",
      "Epoch 68/100\n",
      "858/858 [==============================] - 0s 567us/step - loss: 0.3997 - accuracy: 0.8097\n",
      "Epoch 69/100\n",
      "858/858 [==============================] - 0s 565us/step - loss: 0.4001 - accuracy: 0.8103\n",
      "Epoch 70/100\n"
     ]
    },
    {
     "name": "stdout",
     "output_type": "stream",
     "text": [
      "858/858 [==============================] - 0s 565us/step - loss: 0.4001 - accuracy: 0.8096\n",
      "Epoch 71/100\n",
      "858/858 [==============================] - 0s 549us/step - loss: 0.3999 - accuracy: 0.8101\n",
      "Epoch 72/100\n",
      "858/858 [==============================] - 0s 553us/step - loss: 0.3995 - accuracy: 0.8106\n",
      "Epoch 73/100\n",
      "858/858 [==============================] - 0s 552us/step - loss: 0.3998 - accuracy: 0.8107\n",
      "Epoch 74/100\n",
      "858/858 [==============================] - 0s 559us/step - loss: 0.3995 - accuracy: 0.8104\n",
      "Epoch 75/100\n",
      "858/858 [==============================] - 0s 559us/step - loss: 0.3994 - accuracy: 0.8099\n",
      "Epoch 76/100\n",
      "858/858 [==============================] - 0s 554us/step - loss: 0.3988 - accuracy: 0.8104\n",
      "Epoch 77/100\n",
      "858/858 [==============================] - 0s 577us/step - loss: 0.3991 - accuracy: 0.8100\n",
      "Epoch 78/100\n",
      "858/858 [==============================] - 0s 575us/step - loss: 0.3991 - accuracy: 0.8106\n",
      "Epoch 79/100\n",
      "858/858 [==============================] - 0s 577us/step - loss: 0.3992 - accuracy: 0.8105\n",
      "Epoch 80/100\n",
      "858/858 [==============================] - 0s 578us/step - loss: 0.3989 - accuracy: 0.8111\n",
      "Epoch 81/100\n",
      "858/858 [==============================] - 1s 590us/step - loss: 0.3992 - accuracy: 0.8101\n",
      "Epoch 82/100\n",
      "858/858 [==============================] - 0s 575us/step - loss: 0.3988 - accuracy: 0.8112\n",
      "Epoch 83/100\n",
      "858/858 [==============================] - 0s 571us/step - loss: 0.3991 - accuracy: 0.8107\n",
      "Epoch 84/100\n",
      "858/858 [==============================] - 1s 621us/step - loss: 0.3986 - accuracy: 0.8106\n",
      "Epoch 85/100\n",
      "858/858 [==============================] - 1s 620us/step - loss: 0.3986 - accuracy: 0.8100\n",
      "Epoch 86/100\n",
      "858/858 [==============================] - 0s 556us/step - loss: 0.3980 - accuracy: 0.8105\n",
      "Epoch 87/100\n",
      "858/858 [==============================] - 0s 552us/step - loss: 0.3984 - accuracy: 0.8111\n",
      "Epoch 88/100\n",
      "858/858 [==============================] - 0s 573us/step - loss: 0.3984 - accuracy: 0.8100\n",
      "Epoch 89/100\n",
      "858/858 [==============================] - 1s 590us/step - loss: 0.3981 - accuracy: 0.8112\n",
      "Epoch 90/100\n",
      "858/858 [==============================] - 0s 558us/step - loss: 0.3983 - accuracy: 0.8112\n",
      "Epoch 91/100\n",
      "858/858 [==============================] - 0s 549us/step - loss: 0.3981 - accuracy: 0.8111\n",
      "Epoch 92/100\n",
      "858/858 [==============================] - 0s 555us/step - loss: 0.3980 - accuracy: 0.8100\n",
      "Epoch 93/100\n",
      "858/858 [==============================] - 0s 550us/step - loss: 0.3986 - accuracy: 0.8103\n",
      "Epoch 94/100\n",
      "858/858 [==============================] - 0s 570us/step - loss: 0.3978 - accuracy: 0.8112\n",
      "Epoch 95/100\n",
      "858/858 [==============================] - 0s 552us/step - loss: 0.3979 - accuracy: 0.8108\n",
      "Epoch 96/100\n",
      "858/858 [==============================] - 0s 558us/step - loss: 0.3974 - accuracy: 0.8110\n",
      "Epoch 97/100\n",
      "858/858 [==============================] - 0s 547us/step - loss: 0.3979 - accuracy: 0.8108\n",
      "Epoch 98/100\n",
      "858/858 [==============================] - 0s 559us/step - loss: 0.3976 - accuracy: 0.8108\n",
      "Epoch 99/100\n",
      "858/858 [==============================] - 0s 551us/step - loss: 0.3973 - accuracy: 0.8110\n",
      "Epoch 100/100\n",
      "858/858 [==============================] - 0s 556us/step - loss: 0.3974 - accuracy: 0.8106\n"
     ]
    }
   ],
   "source": [
    "input_shape=X_train_scaled.shape[1]\n",
    "nn = tf.keras.models.Sequential()\n",
    "\n",
    "# First hidden layer\n",
    "#  YOUR CODE GOES HERE\n",
    "nn.add(Dense(units=80, input_dim=input_shape, activation='relu'))\n",
    "# Second hidden layer\n",
    "#  YOUR CODE GOES HERE\n",
    "nn.add(Dense(30, activation='relu'))\n",
    "# Output layer\n",
    "#  YOUR CODE GOES HERE\n",
    "nn.add(Dense(1, activation='sigmoid'))\n",
    "# Check the structure of the model\n",
    "nn.compile(loss='binary_crossentropy',metrics=[\"accuracy\"],optimizer='adam')\n",
    "\n",
    "history=nn.fit(X_train_scaled, y_train,epochs=100)"
   ]
  },
  {
   "cell_type": "code",
   "execution_count": 33,
   "metadata": {},
   "outputs": [
    {
     "name": "stdout",
     "output_type": "stream",
     "text": [
      "215/215 - 0s - loss: 0.4779 - accuracy: 0.7880\n",
      "Loss: 0.47794005274772644, Accuracy: 0.788046658039093\n"
     ]
    }
   ],
   "source": [
    "model_loss, model_accuracy = nn.evaluate(X_test_scaled,y_test,verbose=2)\n",
    "print(f\"Loss: {model_loss}, Accuracy: {model_accuracy}\")"
   ]
  },
  {
   "cell_type": "code",
   "execution_count": 34,
   "metadata": {},
   "outputs": [
    {
     "data": {
      "text/plain": [
       "<AxesSubplot:>"
      ]
     },
     "execution_count": 34,
     "metadata": {},
     "output_type": "execute_result"
    },
    {
     "data": {
      "image/png": "[encoded data removed]",
      "text/plain": [
       "<Figure size 432x288 with 1 Axes>"
      ]
     },
     "metadata": {
      "needs_background": "light"
     },
     "output_type": "display_data"
    }
   ],
   "source": [
    "model_loss = pd.DataFrame(history.history)\n",
    "model_loss.plot()"
   ]
  },
  {
   "cell_type": "markdown",
   "metadata": {},
   "source": [
    "## STEP 3 optimizing result(the model was changed, the part of data preprocessing was changed)"
   ]
  },
  {
   "cell_type": "code",
   "execution_count": 103,
   "metadata": {},
   "outputs": [
    {
     "name": "stdout",
     "output_type": "stream",
     "text": [
      "Model: \"sequential_18\"\n",
      "_________________________________________________________________\n",
      "Layer (type)                 Output Shape              Param #   \n",
      "=================================================================\n",
      "dense_72 (Dense)             (None, 443)               196692    \n",
      "_________________________________________________________________\n",
      "dense_73 (Dense)             (None, 35)                15540     \n",
      "_________________________________________________________________\n",
      "dense_74 (Dense)             (None, 3)                 108       \n",
      "_________________________________________________________________\n",
      "dense_75 (Dense)             (None, 1)                 4         \n",
      "=================================================================\n",
      "Total params: 212,344\n",
      "Trainable params: 212,344\n",
      "Non-trainable params: 0\n",
      "_________________________________________________________________\n"
     ]
    }
   ],
   "source": [
    "input_shape=X_train_scaled.shape[1]\n",
    "nn1 = tf.keras.models.Sequential()\n",
    "\n",
    "# First hidden layer\n",
    "#  YOUR CODE GOES HERE\n",
    "nn1.add(Dense(units=443, input_dim=input_shape, activation='tanh'))\n",
    "\n",
    "# Second hidden layer\n",
    "#  YOUR CODE GOES HERE\n",
    "nn1.add(Dense(35, activation='tanh'))\n",
    "\n",
    "nn1.add(Dense(3, activation='tanh'))\n",
    "# Output layer\n",
    "#  YOUR CODE GOES HERE\n",
    "nn1.add(Dense(1, activation='sigmoid'))\n",
    "# Check the structure of the model\n",
    "nn1.summary()"
   ]
  },
  {
   "cell_type": "code",
   "execution_count": 104,
   "metadata": {},
   "outputs": [],
   "source": [
    "nn1.compile(loss='binary_crossentropy',metrics=[\"accuracy\"],optimizer='adam')"
   ]
  },
  {
   "cell_type": "code",
   "execution_count": 105,
   "metadata": {},
   "outputs": [
    {
     "name": "stdout",
     "output_type": "stream",
     "text": [
      "Epoch 1/100\n",
      "WARNING:tensorflow:AutoGraph could not transform <function Model.make_train_function.<locals>.train_function at 0x000001E6A627F048> and will run it as-is.\n",
      "Please report this to the TensorFlow team. When filing the bug, set the verbosity to 10 (on Linux, `export AUTOGRAPH_VERBOSITY=10`) and attach the full output.\n",
      "Cause: 'arguments' object has no attribute 'posonlyargs'\n",
      "To silence this warning, decorate the function with @tf.autograph.experimental.do_not_convert\n",
      "WARNING: AutoGraph could not transform <function Model.make_train_function.<locals>.train_function at 0x000001E6A627F048> and will run it as-is.\n",
      "Please report this to the TensorFlow team. When filing the bug, set the verbosity to 10 (on Linux, `export AUTOGRAPH_VERBOSITY=10`) and attach the full output.\n",
      "Cause: 'arguments' object has no attribute 'posonlyargs'\n",
      "To silence this warning, decorate the function with @tf.autograph.experimental.do_not_convert\n",
      "858/858 [==============================] - 1s 974us/step - loss: 0.4795 - accuracy: 0.7784\n",
      "Epoch 2/100\n",
      "858/858 [==============================] - 1s 914us/step - loss: 0.4406 - accuracy: 0.7920\n",
      "Epoch 3/100\n",
      "858/858 [==============================] - 1s 903us/step - loss: 0.4307 - accuracy: 0.7968\n",
      "Epoch 4/100\n",
      "858/858 [==============================] - 1s 907us/step - loss: 0.4273 - accuracy: 0.7984\n",
      "Epoch 5/100\n",
      "858/858 [==============================] - 1s 914us/step - loss: 0.4255 - accuracy: 0.7964\n",
      "Epoch 6/100\n",
      "858/858 [==============================] - 1s 914us/step - loss: 0.4227 - accuracy: 0.7984\n",
      "Epoch 7/100\n",
      "858/858 [==============================] - 1s 904us/step - loss: 0.4224 - accuracy: 0.7987\n",
      "Epoch 8/100\n",
      "858/858 [==============================] - 1s 908us/step - loss: 0.4218 - accuracy: 0.7979\n",
      "Epoch 9/100\n",
      "858/858 [==============================] - 1s 909us/step - loss: 0.4212 - accuracy: 0.7992\n",
      "Epoch 10/100\n",
      "858/858 [==============================] - 1s 911us/step - loss: 0.4199 - accuracy: 0.8009\n",
      "Epoch 11/100\n",
      "858/858 [==============================] - 1s 906us/step - loss: 0.4188 - accuracy: 0.8003\n",
      "Epoch 12/100\n",
      "858/858 [==============================] - 1s 976us/step - loss: 0.4178 - accuracy: 0.7995\n",
      "Epoch 13/100\n",
      "858/858 [==============================] - 1s 925us/step - loss: 0.4176 - accuracy: 0.8014\n",
      "Epoch 14/100\n",
      "858/858 [==============================] - 1s 907us/step - loss: 0.4165 - accuracy: 0.8017\n",
      "Epoch 15/100\n",
      "858/858 [==============================] - 1s 908us/step - loss: 0.4162 - accuracy: 0.8017\n",
      "Epoch 16/100\n",
      "858/858 [==============================] - 1s 943us/step - loss: 0.4158 - accuracy: 0.8025\n",
      "Epoch 17/100\n",
      "858/858 [==============================] - 1s 922us/step - loss: 0.4145 - accuracy: 0.8027\n",
      "Epoch 18/100\n",
      "858/858 [==============================] - 1s 907us/step - loss: 0.4139 - accuracy: 0.8029\n",
      "Epoch 19/100\n",
      "858/858 [==============================] - 1s 911us/step - loss: 0.4131 - accuracy: 0.8024\n",
      "Epoch 20/100\n",
      "858/858 [==============================] - 1s 969us/step - loss: 0.4139 - accuracy: 0.8037\n",
      "Epoch 21/100\n",
      "858/858 [==============================] - 1s 957us/step - loss: 0.4133 - accuracy: 0.8028\n",
      "Epoch 22/100\n",
      "858/858 [==============================] - 1s 921us/step - loss: 0.4129 - accuracy: 0.8039\n",
      "Epoch 23/100\n",
      "858/858 [==============================] - 1s 893us/step - loss: 0.4121 - accuracy: 0.8047\n",
      "Epoch 24/100\n",
      "858/858 [==============================] - 1s 923us/step - loss: 0.4137 - accuracy: 0.8019\n",
      "Epoch 25/100\n",
      "858/858 [==============================] - 1s 912us/step - loss: 0.4112 - accuracy: 0.8062\n",
      "Epoch 26/100\n",
      "858/858 [==============================] - 1s 912us/step - loss: 0.4130 - accuracy: 0.8033\n",
      "Epoch 27/100\n",
      "858/858 [==============================] - 1s 900us/step - loss: 0.4117 - accuracy: 0.8037\n",
      "Epoch 28/100\n",
      "858/858 [==============================] - 1s 917us/step - loss: 0.4119 - accuracy: 0.8022\n",
      "Epoch 29/100\n",
      "858/858 [==============================] - 1s 908us/step - loss: 0.4116 - accuracy: 0.8045\n",
      "Epoch 30/100\n",
      "858/858 [==============================] - 1s 909us/step - loss: 0.4103 - accuracy: 0.8045\n",
      "Epoch 31/100\n",
      "858/858 [==============================] - 1s 968us/step - loss: 0.4096 - accuracy: 0.8043\n",
      "Epoch 32/100\n",
      "858/858 [==============================] - 1s 943us/step - loss: 0.4101 - accuracy: 0.8051\n",
      "Epoch 33/100\n",
      "858/858 [==============================] - 1s 908us/step - loss: 0.4094 - accuracy: 0.8054\n",
      "Epoch 34/100\n",
      "858/858 [==============================] - 1s 903us/step - loss: 0.4088 - accuracy: 0.8054\n",
      "Epoch 35/100\n",
      "858/858 [==============================] - 1s 909us/step - loss: 0.4109 - accuracy: 0.8033\n",
      "Epoch 36/100\n",
      "858/858 [==============================] - 1s 911us/step - loss: 0.4085 - accuracy: 0.8062\n",
      "Epoch 37/100\n",
      "858/858 [==============================] - 1s 910us/step - loss: 0.4091 - accuracy: 0.8044\n",
      "Epoch 38/100\n",
      "858/858 [==============================] - 1s 932us/step - loss: 0.4089 - accuracy: 0.8053\n",
      "Epoch 39/100\n",
      "858/858 [==============================] - 1s 947us/step - loss: 0.4084 - accuracy: 0.8043\n",
      "Epoch 40/100\n",
      "858/858 [==============================] - 1s 906us/step - loss: 0.4080 - accuracy: 0.8066\n",
      "Epoch 41/100\n",
      "858/858 [==============================] - 1s 914us/step - loss: 0.4074 - accuracy: 0.8060\n",
      "Epoch 42/100\n",
      "858/858 [==============================] - 1s 921us/step - loss: 0.4085 - accuracy: 0.8062\n",
      "Epoch 43/100\n",
      "858/858 [==============================] - 1s 976us/step - loss: 0.4076 - accuracy: 0.8061\n",
      "Epoch 44/100\n",
      "858/858 [==============================] - 1s 899us/step - loss: 0.4071 - accuracy: 0.8063\n",
      "Epoch 45/100\n",
      "858/858 [==============================] - 1s 919us/step - loss: 0.4077 - accuracy: 0.8059\n",
      "Epoch 46/100\n",
      "858/858 [==============================] - 1s 916us/step - loss: 0.4084 - accuracy: 0.8058\n",
      "Epoch 47/100\n",
      "858/858 [==============================] - 1s 896us/step - loss: 0.4076 - accuracy: 0.8061\n",
      "Epoch 48/100\n",
      "858/858 [==============================] - 1s 925us/step - loss: 0.4064 - accuracy: 0.8075\n",
      "Epoch 49/100\n",
      "858/858 [==============================] - 1s 936us/step - loss: 0.4064 - accuracy: 0.8079\n",
      "Epoch 50/100\n",
      "858/858 [==============================] - 1s 953us/step - loss: 0.4064 - accuracy: 0.8060\n",
      "Epoch 51/100\n",
      "858/858 [==============================] - 1s 924us/step - loss: 0.4063 - accuracy: 0.8068\n",
      "Epoch 52/100\n",
      "858/858 [==============================] - 1s 942us/step - loss: 0.4059 - accuracy: 0.8061\n",
      "Epoch 53/100\n",
      "858/858 [==============================] - 1s 1ms/step - loss: 0.4051 - accuracy: 0.8070\n",
      "Epoch 54/100\n",
      "858/858 [==============================] - 1s 965us/step - loss: 0.4054 - accuracy: 0.8069\n",
      "Epoch 55/100\n",
      "858/858 [==============================] - 1s 953us/step - loss: 0.4055 - accuracy: 0.8074\n",
      "Epoch 56/100\n",
      "858/858 [==============================] - 1s 945us/step - loss: 0.4064 - accuracy: 0.8055\n",
      "Epoch 57/100\n",
      "858/858 [==============================] - 1s 897us/step - loss: 0.4068 - accuracy: 0.8052\n",
      "Epoch 58/100\n",
      "858/858 [==============================] - 1s 906us/step - loss: 0.4061 - accuracy: 0.8058\n",
      "Epoch 00058: early stopping\n"
     ]
    }
   ],
   "source": [
    "mc = tf.keras.callbacks.ModelCheckpoint('model/optim/weights{epoch:08d}.h5',save_weights_only=True, period=5)\n",
    "from tensorflow.keras.callbacks import EarlyStopping    \n",
    "early_stop = EarlyStopping(monitor='loss', mode='min', verbose=1, patience=5)    \n",
    "history=nn1.fit(X_train_scaled, y_train,epochs=100, callbacks=[early_stop])"
   ]
  },
  {
   "cell_type": "code",
   "execution_count": 107,
   "metadata": {},
   "outputs": [
    {
     "name": "stdout",
     "output_type": "stream",
     "text": [
      "215/215 - 0s - loss: 0.4491 - accuracy: 0.7882\n",
      "Loss: 0.4490757882595062, Accuracy: 0.7881923913955688\n"
     ]
    }
   ],
   "source": [
    "# Evaluate the model using the test data\n",
    "model_loss, model_accuracy = nn1.evaluate(X_test_scaled,y_test,verbose=2)\n",
    "print(f\"Loss: {model_loss}, Accuracy: {model_accuracy}\")"
   ]
  },
  {
   "cell_type": "code",
   "execution_count": 108,
   "metadata": {},
   "outputs": [
    {
     "data": {
      "text/plain": [
       "<AxesSubplot:>"
      ]
     },
     "execution_count": 108,
     "metadata": {},
     "output_type": "execute_result"
    },
    {
     "data": {
      "image/png": "[encoded data removed]",
      "text/plain": [
       "<Figure size 432x288 with 1 Axes>"
      ]
     },
     "metadata": {
      "needs_background": "light"
     },
     "output_type": "display_data"
    }
   ],
   "source": [
    "model_loss = pd.DataFrame(history.history)\n",
    "model_loss.plot()"
   ]
  },
  {
   "cell_type": "code",
   "execution_count": 109,
   "metadata": {},
   "outputs": [],
   "source": [
    "# Export our model to HDF5 file\n",
    "#  YOUR CODE GOES HERE\n",
    "nn1.save('model/optim/optimized_model.h5')"
   ]
  },
  {
   "cell_type": "code",
   "execution_count": 127,
   "metadata": {},
   "outputs": [
    {
     "name": "stdout",
     "output_type": "stream",
     "text": [
      "215/215 - 0s - loss: 0.4519 - accuracy: 0.7837\n",
      "Loss: 0.45190849900245667, Accuracy: 0.7836734652519226\n"
     ]
    }
   ],
   "source": [
    "model_loss2, model_accuracy2 = nn2.evaluate(X_test_scaled,y_test,verbose=2)\n",
    "print(f\"Loss: {model_loss2}, Accuracy: {model_accuracy2}\")"
   ]
  },
  {
   "cell_type": "code",
   "execution_count": null,
   "metadata": {},
   "outputs": [],
   "source": []
  }
 ],
 "metadata": {
  "interpreter": {
   "hash": "fa93e806ebe966252dafa24a1ebcd8709a0c2913e2b314fa57e83455f79cb2c2"
  },
  "kernelspec": {
   "display_name": "Python 3",
   "language": "python",
   "name": "python3"
  },
  "language_info": {
   "codemirror_mode": {
    "name": "ipython",
    "version": 3
   },
   "file_extension": ".py",
   "mimetype": "text/x-python",
   "name": "python",
   "nbconvert_exporter": "python",
   "pygments_lexer": "ipython3",
   "version": "3.7.6"
  }
 },
 "nbformat": 4,
 "nbformat_minor": 2
}
